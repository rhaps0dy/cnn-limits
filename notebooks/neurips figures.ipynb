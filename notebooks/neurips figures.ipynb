{
 "cells": [
  {
   "cell_type": "code",
   "execution_count": 1,
   "metadata": {},
   "outputs": [],
   "source": [
    "import numpy as np\n",
    "import pandas as pd\n",
    "import os\n",
    "import json\n",
    "import collections\n",
    "import re\n",
    "from pathlib import Path\n",
    "import seaborn as sns"
   ]
  },
  {
   "cell_type": "code",
   "execution_count": 2,
   "metadata": {},
   "outputs": [],
   "source": [
    "import matplotlib\n",
    "matplotlib.use(\"pgf\")\n",
    "matplotlib.rcParams.update({\n",
    "    \"pgf.texsystem\": \"pdflatex\",\n",
    "    'font.family': 'serif',\n",
    "    \"font.serif\": [],  \n",
    "    'text.usetex': True,\n",
    "    'pgf.rcfonts': False,\n",
    "    'font.size': 8\n",
    "})\n",
    "import matplotlib.pyplot as plt\n"
   ]
  },
  {
   "cell_type": "code",
   "execution_count": 3,
   "metadata": {},
   "outputs": [],
   "source": [
    "(mean, err) = pd.read_pickle(\"~/Programacio/cnn-limits/figures/cntk14_cv.pkl.gz\")\n",
    "mean = mean.drop(10, axis=\"columns\")\n",
    "err = err.drop(10, axis=\"columns\")\n"
   ]
  },
  {
   "cell_type": "code",
   "execution_count": 4,
   "metadata": {},
   "outputs": [],
   "source": [
    "sns.set_style(\"whitegrid\")\n",
    "sns.set_context(\"paper\")\n",
    "\n",
    "log_lengthscales = np.array([-2, *np.linspace(-1.5, 4.5, 25), 5])\n",
    "lengthscales = 10**log_lengthscales\n",
    "\n",
    "fig, axes = plt.subplots(1, 1, figsize=(5.50107, 3))\n",
    "ax = axes\n",
    "\n",
    "artists = []\n",
    "labels = []\n",
    "\n",
    "colors = plt.get_cmap('plasma')(np.linspace(0., 0.8, len(mean.columns)))\n",
    "for column, color in zip(mean.columns[::-1], colors):\n",
    "    x_axis = log_lengthscales\n",
    "    y_axis = mean[column].values\n",
    "    y_err = err[column]\n",
    "    \n",
    "    line, = ax.plot(x_axis, y_axis, color=color)\n",
    "    labels.append(f\"$N={column}$\")\n",
    "    artists.append(line)\n",
    "    if column == 10240:\n",
    "        \n",
    "        indep_line, = ax.plot([x_axis[0]], [y_axis[0]], color=color, marker='<')\n",
    "        meanp_line, = ax.plot([x_axis[-1]], [y_axis[-1]], color=color, marker='>')\n",
    "\n",
    "        idx = mean.idxmax()[column]\n",
    "        maxcv_line, =ax.plot([x_axis[idx]], [y_axis[idx]], color=color, marker='*')\n",
    "    else:\n",
    "        ax.plot(x_axis, y_axis+y_err, color=color, linewidth=0.5, ls='-', alpha=0.5)\n",
    "        ax.plot(x_axis, y_axis-y_err, color=color, linewidth=0.5, ls='-', alpha=0.5)\n",
    "        \n",
    "        ax.plot([x_axis[0]], [y_axis[0]], color=color, marker='<')\n",
    "        ax.plot([x_axis[-1]], [y_axis[-1]], color=color, marker='>')\n",
    "    \n",
    "        idx = mean.idxmax()[column]\n",
    "        ax.plot([x_axis[idx]], [y_axis[idx]], color=color, marker='*')\n",
    "    #if column == 10240:\n",
    "    #    y_upper = mean.loc[idx, column] - 0.01\n",
    "    #else:\n",
    "    #    y_upper = mean.loc[idx, column] - err.loc[idx, column]-0.01\n",
    "    #x_bar = x_axis[idx]\n",
    "    #ax.plot([x_bar, x_bar], [y_upper, 0.1], color=color, ls='--', linewidth=1)\n",
    "    \n",
    "#empty_artist, = ax.plot([], [], linewidth=0.0)\n",
    "ax.set_ylabel(\"4-fold cross-validation accuracy\")\n",
    "ax.set_xlabel(\"$log_{10}($lengthscale$)$ of Matérn-3/2 kernel\")\n",
    "ax.legend((*artists, indep_line, meanp_line, maxcv_line),\n",
    "          (*labels, \"indep. $W$\", \"mean pool\", \"max. CV acc.\"),\n",
    "          frameon=False, ncol=1 , loc='center left', bbox_to_anchor=(1, 0.5, 0, 0))\n",
    "\n",
    "fig.tight_layout()\n",
    "plt.savefig(\"../neurips2020/fig/cntk14.pgf\")"
   ]
  },
  {
   "cell_type": "code",
   "execution_count": null,
   "metadata": {},
   "outputs": [],
   "source": []
  }
 ],
 "metadata": {
  "kernelspec": {
   "display_name": "Python 3",
   "language": "python",
   "name": "python3"
  },
  "language_info": {
   "codemirror_mode": {
    "name": "ipython",
    "version": 3
   },
   "file_extension": ".py",
   "mimetype": "text/x-python",
   "name": "python",
   "nbconvert_exporter": "python",
   "pygments_lexer": "ipython3",
   "version": "3.7.6"
  }
 },
 "nbformat": 4,
 "nbformat_minor": 4
}
