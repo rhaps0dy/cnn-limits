{
 "cells": [
  {
   "cell_type": "code",
   "execution_count": 1,
   "metadata": {},
   "outputs": [],
   "source": [
    "import gpytorch\n",
    "from gpytorch.distributions import MultivariateNormal\n",
    "\n",
    "import jax.numpy as np\n",
    "from neural_tangents import stax\n",
    "from jax import random\n",
    "\n",
    "from cnn_gp import Conv2d, ReLU, Sequential, resnet_block\n",
    "from cnn_gp.kernels import resnet_block_bn\n",
    "import cnn_gp\n",
    "import torchvision\n",
    "import matplotlib.pyplot as plt\n",
    "import torch\n",
    "import pandas as pd\n",
    "\n",
    "torch.set_default_dtype(torch.float64)\n",
    "gpytorch.settings.max_cholesky_size._set_value(100000)\n",
    "\n",
    "import jax.dlpack as jpack\n",
    "import torch.utils.dlpack as tpack"
   ]
  },
  {
   "cell_type": "code",
   "execution_count": 2,
   "metadata": {},
   "outputs": [],
   "source": [
    "def to_jax(t):\n",
    "    return jpack.from_dlpack(tpack.to_dlpack(t))\n",
    "\n",
    "def to_torch(t):\n",
    "    return tpack.from_dlpack(jpack.to_dlpack(t))"
   ]
  },
  {
   "cell_type": "code",
   "execution_count": 3,
   "metadata": {},
   "outputs": [],
   "source": [
    "class config:\n",
    "    train_range = range(40000)\n",
    "    validation_range = range(40000, 50000)\n",
    "    test_range = range(50000, 60000)\n",
    "\n",
    "    kernel_batch_size = 350\n",
    "\n",
    "    dataset_name = \"CIFAR10\"\n",
    "    model_name = \"ResNet\"\n",
    "    in_channels = 3\n",
    "    dataset = torchvision.datasets.CIFAR10\n",
    "    transforms = []\n",
    "    epochs = 0\n",
    "    initial_model = Sequential(\n",
    "        Conv2d(kernel_size=3),\n",
    "\n",
    "        # Big resnet block #1\n",
    "        resnet_block_bn(stride=1, projection_shortcut=True,  multiplier=1),\n",
    "        resnet_block_bn(stride=1, projection_shortcut=False, multiplier=1),\n",
    "        resnet_block_bn(stride=1, projection_shortcut=False, multiplier=1),\n",
    "        resnet_block_bn(stride=1, projection_shortcut=False, multiplier=1),\n",
    "        resnet_block_bn(stride=1, projection_shortcut=False, multiplier=1),\n",
    "\n",
    "        # Big resnet block #2\n",
    "        resnet_block_bn(stride=2, projection_shortcut=True,  multiplier=2),\n",
    "        resnet_block_bn(stride=1, projection_shortcut=False, multiplier=2),\n",
    "        resnet_block_bn(stride=1, projection_shortcut=False, multiplier=2),\n",
    "        resnet_block_bn(stride=1, projection_shortcut=False, multiplier=2),\n",
    "        resnet_block_bn(stride=1, projection_shortcut=False, multiplier=2),\n",
    "\n",
    "        # Big resnet block #3\n",
    "        resnet_block_bn(stride=2, projection_shortcut=True,  multiplier=4),\n",
    "        resnet_block_bn(stride=1, projection_shortcut=False, multiplier=4),\n",
    "        resnet_block_bn(stride=1, projection_shortcut=False, multiplier=4),\n",
    "        resnet_block_bn(stride=1, projection_shortcut=False, multiplier=4),\n",
    "        resnet_block_bn(stride=1, projection_shortcut=False, multiplier=4),\n",
    "\n",
    "        # No nonlinearity here, the next Conv2d substitutes the average pooling\n",
    "        Conv2d(kernel_size=8, padding=0, in_channel_multiplier=4,\n",
    "               out_channel_multiplier=4),\n",
    "        Conv2d(kernel_size=1, padding=0, in_channel_multiplier=4,\n",
    "               out_channel_multiplier=4),\n",
    "        ReLU(),\n",
    "        Conv2d(kernel_size=1, padding=0, in_channel_multiplier=4),\n",
    "    )"
   ]
  },
  {
   "cell_type": "code",
   "execution_count": 4,
   "metadata": {},
   "outputs": [],
   "source": [
    "class config:\n",
    "    train_range = range(40000)\n",
    "    validation_range = range(40000, 50000)\n",
    "    test_range = range(50000, 60000)\n",
    "\n",
    "    kernel_batch_size = 350\n",
    "\n",
    "    dataset_name = \"CIFAR10\"\n",
    "    model_name = \"ResNet\"\n",
    "    in_channels = 3\n",
    "    dataset = torchvision.datasets.CIFAR10\n",
    "    transforms = []\n",
    "    epochs = 0\n",
    "    initial_model = Sequential(\n",
    "        Conv2d(kernel_size=3),\n",
    "\n",
    "        # Big resnet block #1\n",
    "        resnet_block_bn(stride=1, projection_shortcut=True,  multiplier=1),\n",
    "        resnet_block_bn(stride=1, projection_shortcut=False, multiplier=1),\n",
    "        resnet_block_bn(stride=1, projection_shortcut=False, multiplier=1),\n",
    "        resnet_block_bn(stride=1, projection_shortcut=False, multiplier=1),\n",
    "        resnet_block_bn(stride=1, projection_shortcut=False, multiplier=1),\n",
    "\n",
    "        # Big resnet block #2\n",
    "        resnet_block_bn(stride=2, projection_shortcut=True,  multiplier=2),\n",
    "        resnet_block_bn(stride=1, projection_shortcut=False, multiplier=2),\n",
    "        resnet_block_bn(stride=1, projection_shortcut=False, multiplier=2),\n",
    "        resnet_block_bn(stride=1, projection_shortcut=False, multiplier=2),\n",
    "        resnet_block_bn(stride=1, projection_shortcut=False, multiplier=2),\n",
    "\n",
    "        # Big resnet block #3\n",
    "        resnet_block_bn(stride=2, projection_shortcut=True,  multiplier=4),\n",
    "        resnet_block_bn(stride=1, projection_shortcut=False, multiplier=4),\n",
    "        resnet_block_bn(stride=1, projection_shortcut=False, multiplier=4),\n",
    "        resnet_block_bn(stride=1, projection_shortcut=False, multiplier=4),\n",
    "        resnet_block_bn(stride=1, projection_shortcut=False, multiplier=4),\n",
    "\n",
    "        # No nonlinearity here, the next Conv2d substitutes the average pooling\n",
    "        Conv2d(kernel_size=8, padding=0, in_channel_multiplier=4,\n",
    "               out_channel_multiplier=4),\n",
    "        Conv2d(kernel_size=1, padding=0, in_channel_multiplier=4,\n",
    "               out_channel_multiplier=4),\n",
    "        ReLU(),\n",
    "        Conv2d(kernel_size=1, padding=0, in_channel_multiplier=4),\n",
    "    )"
   ]
  },
  {
   "cell_type": "code",
   "execution_count": 5,
   "metadata": {},
   "outputs": [
    {
     "name": "stdout",
     "output_type": "stream",
     "text": [
      "Files already downloaded and verified\n"
     ]
    }
   ],
   "source": [
    "dataset = cnn_gp.DatasetFromConfig(\"/scratch/ag919/datasets\", config)"
   ]
  },
  {
   "cell_type": "code",
   "execution_count": 6,
   "metadata": {},
   "outputs": [],
   "source": [
    "diag_iter = cnn_gp.DiagIterator(100, dataset.train)\n",
    "(_same, (_i, (x, y)), _ixy) = next(iter(diag_iter))\n",
    "flat_x = x.view(-1, x.size()[-3:].numel())"
   ]
  },
  {
   "cell_type": "code",
   "execution_count": 7,
   "metadata": {},
   "outputs": [],
   "source": [
    "class_df = pd.DataFrame(index=np.arange(10))"
   ]
  },
  {
   "cell_type": "code",
   "execution_count": 8,
   "metadata": {},
   "outputs": [
    {
     "ename": "NameError",
     "evalue": "name 'initial_' is not defined",
     "output_type": "error",
     "traceback": [
      "\u001b[0;31m---------------------------------------------------------------------------\u001b[0m",
      "\u001b[0;31mNameError\u001b[0m                                 Traceback (most recent call last)",
      "\u001b[0;32m<ipython-input-8-619824d483b9>\u001b[0m in \u001b[0;36m<module>\u001b[0;34m\u001b[0m\n\u001b[0;32m----> 1\u001b[0;31m \u001b[0minitial_\u001b[0m\u001b[0;34m\u001b[0m\u001b[0;34m\u001b[0m\u001b[0m\n\u001b[0m",
      "\u001b[0;31mNameError\u001b[0m: name 'initial_' is not defined"
     ]
    }
   ],
   "source": [
    "initial_"
   ]
  },
  {
   "cell_type": "markdown",
   "metadata": {},
   "source": [
    "# Create neural-tangents network"
   ]
  },
  {
   "cell_type": "code",
   "execution_count": null,
   "metadata": {},
   "outputs": [],
   "source": [
    "init_fn, apply_fn, kernel_fn = stax.serial(*([stax.Conv(30, (3, 3), padding='SAME'), stax.Relu()]*20), stax.Dense(10))"
   ]
  },
  {
   "cell_type": "code",
   "execution_count": null,
   "metadata": {},
   "outputs": [],
   "source": [
    "def WideResnetBlock(channels, strides=(1, 1), channel_mismatch=False):\n",
    "  Main = stax.serial(\n",
    "      stax.Relu(), stax.Conv(channels, (3, 3), strides, padding='SAME'),\n",
    "      stax.Relu(), stax.Conv(channels, (3, 3), padding='SAME'))\n",
    "  Shortcut = stax.Identity() if not channel_mismatch else stax.Conv(\n",
    "      channels, (3, 3), strides, padding='SAME')\n",
    "  return stax.serial(stax.FanOut(2),\n",
    "                     stax.parallel(Main, Shortcut),\n",
    "                     stax.FanInSum())\n",
    "\n",
    "def WideResnetGroup(n, channels, strides=(1, 1)):\n",
    "  blocks = []\n",
    "  blocks += [WideResnetBlock(channels, strides, channel_mismatch=True)]\n",
    "  for _ in range(n - 1):\n",
    "    blocks += [WideResnetBlock(channels, (1, 1))]\n",
    "  return stax.serial(*blocks)\n",
    "\n",
    "def WideResnet(block_size, k, num_classes):\n",
    "  return stax.serial(\n",
    "      stax.Conv(16, (3, 3), padding='SAME'),\n",
    "      WideResnetGroup(block_size, int(16 * k)),\n",
    "      WideResnetGroup(block_size, int(32 * k), (2, 2)),\n",
    "      WideResnetGroup(block_size, int(64 * k), (2, 2)),\n",
    "      stax.AvgPool((8, 8)),\n",
    "      stax.Flatten(),\n",
    "      stax.Dense(num_classes, 1., 0.))\n",
    "\n",
    "init_fn, apply_fn, kernel_fn = WideResnet(block_size=4, k=1, num_classes=10)"
   ]
  },
  {
   "cell_type": "code",
   "execution_count": null,
   "metadata": {},
   "outputs": [],
   "source": [
    "list(x.size()[1:])"
   ]
  },
  {
   "cell_type": "code",
   "execution_count": null,
   "metadata": {},
   "outputs": [],
   "source": [
    "rng = random.PRNGKey(13)\n",
    "w1 = init_fn(rng, list(x.size()))"
   ]
  },
  {
   "cell_type": "code",
   "execution_count": null,
   "metadata": {},
   "outputs": [],
   "source": [
    "nn_out = apply_fn(w1, to_jax(flat_x.cuda()))\n",
    "jax_y = to_torch(np.argmax(nn_out, 1))"
   ]
  },
  {
   "cell_type": "code",
   "execution_count": null,
   "metadata": {},
   "outputs": [],
   "source": []
  },
  {
   "cell_type": "code",
   "execution_count": null,
   "metadata": {},
   "outputs": [],
   "source": [
    "_, ax = plt.subplots(1, 1, figsize=(15, 10))\n",
    "class_df.plot(kind='bar', ax=ax)\n"
   ]
  },
  {
   "cell_type": "markdown",
   "metadata": {},
   "source": [
    "# Run prior samples"
   ]
  },
  {
   "cell_type": "code",
   "execution_count": null,
   "metadata": {},
   "outputs": [],
   "source": [
    "def count_classes(y):\n",
    "    with torch.no_grad():\n",
    "        return (y.view(-1) == torch.arange(10).unsqueeze(-1)).sum(-1)\n",
    "    \n",
    "class_df['train'] = count_classes(y)"
   ]
  },
  {
   "cell_type": "code",
   "execution_count": null,
   "metadata": {},
   "outputs": [],
   "source": [
    "def count_sample_kern(K):\n",
    "    with torch.no_grad():\n",
    "        y = K.zero_mean_mvn_samples(10).argmax(0)\n",
    "        return count_classes(y.cpu())"
   ]
  },
  {
   "cell_type": "code",
   "execution_count": null,
   "metadata": {},
   "outputs": [],
   "source": [
    "kern = gpytorch.kernels.RBFKernel()\n",
    "kern.lengthscale = 6"
   ]
  },
  {
   "cell_type": "code",
   "execution_count": null,
   "metadata": {},
   "outputs": [],
   "source": [
    "K = kern(flat_x)\n",
    "class_df['prior_rbf_1'] = count_sample_kern(K)\n",
    "class_df['prior_rbf_2'] = count_sample_kern(K)\n",
    "\n",
    "print(\"Determinant:\", K.logdet())"
   ]
  },
  {
   "cell_type": "code",
   "execution_count": null,
   "metadata": {},
   "outputs": [],
   "source": [
    "x = x.to(dtype=torch.float32, device='cuda')\n",
    "model = config.initial_model.to(dtype=torch.float32, device='cuda')"
   ]
  },
  {
   "cell_type": "code",
   "execution_count": null,
   "metadata": {},
   "outputs": [],
   "source": [
    "K = gpytorch.lazy.NonLazyTensor(model(x).detach().cpu())\n",
    "class_df['nngp_1'] = count_sample_kern(K)\n",
    "class_df['nngp_2'] = count_sample_kern(K)"
   ]
  },
  {
   "cell_type": "code",
   "execution_count": null,
   "metadata": {},
   "outputs": [],
   "source": [
    "class_df['mlp_1'] = count_sample_kern(K)"
   ]
  },
  {
   "cell_type": "code",
   "execution_count": null,
   "metadata": {},
   "outputs": [],
   "source": [
    "nn = model.nn(10, in_channels=3, out_channels=10).to(x).eval()\n",
    "y1 = nn(x).squeeze(-1).squeeze(-1).argmax(-1)\n",
    "class_df['nobn_1'] = count_classes(y1.cpu())\n",
    "\n",
    "nn = model.nn(10, in_channels=3, out_channels=10).to(x).eval()\n",
    "y2 = nn(x).squeeze(-1).squeeze(-1).argmax(-1)\n",
    "class_df['nobn_2'] = count_classes(y2.cpu())"
   ]
  },
  {
   "cell_type": "code",
   "execution_count": null,
   "metadata": {},
   "outputs": [],
   "source": [
    "nn = model.nn(10, in_channels=3, out_channels=10).to(x).train()\n",
    "y1 = nn(x).squeeze(-1).squeeze(-1).argmax(-1)\n",
    "class_df['nn_1'] = count_classes(y1.cpu())\n",
    "\n",
    "nn = model.nn(10, in_channels=3, out_channels=10).to(x).train()\n",
    "y2 = nn(x).squeeze(-1).squeeze(-1).argmax(-1)\n",
    "class_df['nn_2'] = count_classes(y2.cpu())"
   ]
  },
  {
   "cell_type": "code",
   "execution_count": null,
   "metadata": {},
   "outputs": [],
   "source": [
    "class_df.plot()"
   ]
  },
  {
   "cell_type": "code",
   "execution_count": null,
   "metadata": {},
   "outputs": [],
   "source": [
    "for n, p in nn.named_parameters():\n",
    "    with torch.no_grad():\n",
    "        p[::2, ::2, ...].neg_()"
   ]
  },
  {
   "cell_type": "code",
   "execution_count": null,
   "metadata": {},
   "outputs": [],
   "source": [
    "y2 = nn(x).squeeze(-1).squeeze(-1).argmax(-1)\n",
    "class_df['nn_neg_2'] = count_classes(y2.cpu())"
   ]
  },
  {
   "cell_type": "code",
   "execution_count": null,
   "metadata": {},
   "outputs": [],
   "source": [
    "K.logdet(), kern(flat_x).logdet()"
   ]
  },
  {
   "cell_type": "code",
   "execution_count": null,
   "metadata": {},
   "outputs": [],
   "source": [
    "# ReLU 1D expectation from correlation\n",
    "#                  ⏤⏤⏤⏤⏤⏤⏤⏤⏤⏤⏤⏤⏤⏤⏤⏤⏤⏤\n",
    "#    √(v₁v₂) / 2π ⎷1 - c²/v₁v₂ + (π - θ)c / √(v₁v₂)\n",
    "\n",
    "a = torch.linspace(-1, 1, 100)\n",
    "corr_y  = (np.sqrt(1-a**2) + (np.pi - np.arccos(a))*a) / 2*np.pi\n",
    "plt.plot(a, corr_y)\n"
   ]
  },
  {
   "cell_type": "code",
   "execution_count": 9,
   "metadata": {},
   "outputs": [],
   "source": [
    "import jax.numpy as jnp\n",
    "from jax import jit, grad, vmap"
   ]
  },
  {
   "cell_type": "code",
   "execution_count": 10,
   "metadata": {},
   "outputs": [],
   "source": [
    "def reluf(x):\n",
    "    return (jnp.sqrt(1-x**2) + (jnp.pi - jnp.arccos(x))*x) / (2*jnp.pi)\n",
    "\n",
    "reluf = jit(reluf)\n",
    "reluf_ = jit(vmap(grad(reluf)))"
   ]
  },
  {
   "cell_type": "code",
   "execution_count": 11,
   "metadata": {},
   "outputs": [
    {
     "data": {
      "text/plain": [
       "[<matplotlib.lines.Line2D at 0x7f299846e810>]"
      ]
     },
     "execution_count": 11,
     "metadata": {},
     "output_type": "execute_result"
    },
    {
     "data": {
      "image/png": "[encoded data removed]",
      "text/plain": [
       "<Figure size 432x288 with 1 Axes>"
      ]
     },
     "metadata": {
      "needs_background": "light"
     },
     "output_type": "display_data"
    }
   ],
   "source": [
    "xs = jnp.linspace(-1+1e-6, 1, 100)\n",
    "plt.plot(xs, reluf(xs)*2)\n",
    "#plt.plot(xs, reluf_(xs))\n",
    "#plt.plot([-1, 1], [-1, 1])"
   ]
  },
  {
   "cell_type": "code",
   "execution_count": 19,
   "metadata": {},
   "outputs": [
    {
     "data": {
      "text/plain": [
       "<matplotlib.legend.Legend at 0x7f2a59522dd0>"
      ]
     },
     "execution_count": 19,
     "metadata": {},
     "output_type": "execute_result"
    },
    {
     "data": {
      "image/png": "[encoded data removed]",
      "text/plain": [
       "<Figure size 864x720 with 1 Axes>"
      ]
     },
     "metadata": {
      "needs_background": "light"
     },
     "output_type": "display_data"
    }
   ],
   "source": [
    "def evolve_relu(arr):\n",
    "    x1, x2, cov = arr\n",
    "    norm = (x1**.5 * x2**.5)\n",
    "    rho = jnp.clip(cov/norm, -1., 1.)\n",
    "    return jnp.array([x1/2, x2/2, norm * reluf(rho)])\n",
    "\n",
    "def evolve_erf(arr):\n",
    "    x1, x2, cov = arr\n",
    "    ang = jnp.array([x1/(1+x1), x2/(1+x2),\n",
    "                     jnp.clip(2*cov * ((1 + 2*x1) * (1 + 2*x2))**-.5, -1, 1)])\n",
    "    return 2/jnp.pi * jnp.arcsin(ang)\n",
    "\n",
    "def evolve(arr):\n",
    "    x1, x2, cov = arr\n",
    "    res = jnp.array([1-jnp.exp(-2*x1), 1-jnp.exp(-2*x2),\n",
    "                    jnp.exp(cov-.5*x1-.5*x2) - jnp.exp(-cov-.5*x2-.5*x2)])\n",
    "    return res/2\n",
    "\n",
    "\n",
    "\n",
    "corr = jnp.array(0.)\n",
    "\n",
    "sigw = 0.1\n",
    "sigb = 0.1\n",
    "\n",
    "s = jnp.array([1., 1., corr])\n",
    "trace = [s]\n",
    "t2 = [corr]\n",
    "for _ in range(30):\n",
    "    s = evolve_relu(s)*sigw + sigb\n",
    "    corr = reluf(corr)*2\n",
    "    trace.append(s)\n",
    "    t2.append(corr)\n",
    "x1, x2, cov = jnp.stack(trace).T\n",
    "\n",
    "t2 = jnp.stack(t2).ravel()\n",
    "\n",
    "_, ax = plt.subplots(1, 1, figsize=(12, 10))\n",
    "norm = x1**.5 * x2**.5\n",
    "#ax.plot(x1, label=\"x1\")\n",
    "#ax.plot(x2, label=\"x2\")\n",
    "#ax.plot(cov, label=\"cov\")\n",
    "ax.plot(cov/norm, label=\"corr\")\n",
    "ax.plot(t2, label='simple')\n",
    "ax.legend()"
   ]
  },
  {
   "cell_type": "code",
   "execution_count": null,
   "metadata": {},
   "outputs": [],
   "source": []
  },
  {
   "cell_type": "code",
   "execution_count": null,
   "metadata": {},
   "outputs": [],
   "source": [
    "from neural_tangents import staxgg"
   ]
  },
  {
   "cell_type": "code",
   "execution_count": null,
   "metadata": {},
   "outputs": [],
   "source": [
    "init_fn, apply_fn, kernel_fn = stax.serial(*([stax.Dense(512), stax.Relu()]*30), stax.Dense(1))"
   ]
  },
  {
   "cell_type": "code",
   "execution_count": null,
   "metadata": {},
   "outputs": [],
   "source": [
    "jflat_x = jnp.array(flat_x.cpu().numpy().astype('float32'))"
   ]
  },
  {
   "cell_type": "code",
   "execution_count": null,
   "metadata": {},
   "outputs": [],
   "source": [
    "arr = kernel_fn(jflat_x, jflat_x, 'nngp')"
   ]
  },
  {
   "cell_type": "code",
   "execution_count": null,
   "metadata": {},
   "outputs": [],
   "source": [
    "M = (jflat_x @ jflat_x.T) / jflat_x.shape[1]\n",
    "evolve([M[0, 0], M[1, 1], M[0, 1]])"
   ]
  },
  {
   "cell_type": "code",
   "execution_count": null,
   "metadata": {},
   "outputs": [],
   "source": [
    "arr.dlpack()"
   ]
  },
  {
   "cell_type": "code",
   "execution_count": null,
   "metadata": {},
   "outputs": [],
   "source": [
    "import jax.dlpack as jpack\n",
    "import torch.utils.dlpack as tpack"
   ]
  },
  {
   "cell_type": "code",
   "execution_count": null,
   "metadata": {},
   "outputs": [],
   "source": [
    "K = gpytorch.lazy.NonLazyTensor(tpack.from_dlpack(jpack.to_dlpack(arr)))"
   ]
  },
  {
   "cell_type": "markdown",
   "metadata": {},
   "source": [
    "# Sine activations"
   ]
  },
  {
   "cell_type": "code",
   "execution_count": null,
   "metadata": {},
   "outputs": [],
   "source": [
    "xs = np.linspace(0., 1., 100)\n",
    "\n",
    "plt.plot(xs, .5*(1 - np.exp(-2*xs)))"
   ]
  },
  {
   "cell_type": "code",
   "execution_count": null,
   "metadata": {},
   "outputs": [],
   "source": [
    "xs = np.linspace(-1, 1, 100)\n",
    "plt.plot(xs, .5*(np.exp(xs - 2) - np.exp(-xs - 2)))"
   ]
  },
  {
   "cell_type": "code",
   "execution_count": null,
   "metadata": {},
   "outputs": [],
   "source": []
  }
 ],
 "metadata": {
  "kernelspec": {
   "display_name": "Python 3",
   "language": "python",
   "name": "python3"
  },
  "language_info": {
   "codemirror_mode": {
    "name": "ipython",
    "version": 3
   },
   "file_extension": ".py",
   "mimetype": "text/x-python",
   "name": "python",
   "nbconvert_exporter": "python",
   "pygments_lexer": "ipython3",
   "version": "3.7.6"
  }
 },
 "nbformat": 4,
 "nbformat_minor": 4
}
