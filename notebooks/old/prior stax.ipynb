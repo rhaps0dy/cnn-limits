{
 "cells": [
  {
   "cell_type": "code",
   "execution_count": 1,
   "metadata": {},
   "outputs": [],
   "source": [
    "import jax.numpy as np\n",
    "from neural_tangents import stax\n",
    "import neural_tangents as nt\n",
    "from jax import random, jit, vmap\n",
    "\n",
    "import cnn_gp\n",
    "\n",
    "import torchvision\n",
    "import matplotlib.pyplot as plt\n",
    "import pandas as pd"
   ]
  },
  {
   "cell_type": "code",
   "execution_count": 2,
   "metadata": {},
   "outputs": [
    {
     "name": "stdout",
     "output_type": "stream",
     "text": [
      "Files already downloaded and verified\n"
     ]
    }
   ],
   "source": [
    "class config:\n",
    "    train_range = range(40000)\n",
    "    validation_range = range(40000, 50000)\n",
    "    test_range = range(50000, 60000)\n",
    "    transforms = []\n",
    "    dataset_name = \"CIFAR10\"\n",
    "    dataset = torchvision.datasets.CIFAR10\n",
    "dataset = cnn_gp.DatasetFromConfig(\"/scratch/ag919/datasets\", config)"
   ]
  },
  {
   "cell_type": "code",
   "execution_count": 3,
   "metadata": {},
   "outputs": [],
   "source": [
    "diag_iter = cnn_gp.DiagIterator(2000, dataset.train)\n",
    "(_same, (_i, (x, y)), _ixy) = next(iter(diag_iter))"
   ]
  },
  {
   "cell_type": "code",
   "execution_count": 4,
   "metadata": {},
   "outputs": [],
   "source": [
    "x = np.array(x.numpy())"
   ]
  },
  {
   "cell_type": "code",
   "execution_count": 5,
   "metadata": {},
   "outputs": [],
   "source": [
    "def WideResnetBlock(channels, strides=(1, 1), channel_mismatch=False):\n",
    "  Main = stax.serial(\n",
    "      stax.Relu(), stax.Conv(channels, (3, 3), strides, padding='SAME'),\n",
    "      stax.Relu(), stax.Conv(channels, (3, 3), padding='SAME'))\n",
    "  Shortcut = stax.Identity() if not channel_mismatch else stax.Conv(\n",
    "      channels, (3, 3), strides, padding='SAME')\n",
    "  return stax.serial(stax.FanOut(2),\n",
    "                     stax.parallel(Main, Shortcut),\n",
    "                     stax.FanInSum())\n",
    "\n",
    "def WideResnetGroup(n, channels, strides=(1, 1)):\n",
    "  blocks = []\n",
    "  blocks += [WideResnetBlock(channels, strides, channel_mismatch=True)]\n",
    "  for _ in range(n - 1):\n",
    "    blocks += [WideResnetBlock(channels, (1, 1))]\n",
    "  return stax.serial(*blocks)\n",
    "\n",
    "def WideResnet(block_size, k, num_classes):\n",
    "  return stax.serial(\n",
    "      stax.Conv(16, (3, 3), padding='SAME'),\n",
    "      WideResnetGroup(block_size, int(16 * k)),\n",
    "      WideResnetGroup(block_size, int(16 * k)),\n",
    "      WideResnetGroup(block_size, int(16 * k)),\n",
    "      WideResnetGroup(block_size, int(16 * k)),\n",
    "      WideResnetGroup(block_size, int(16 * k)),\n",
    "      WideResnetGroup(block_size, int(32 * k), (2, 2)),\n",
    "      WideResnetGroup(block_size, int(32 * k)),\n",
    "      WideResnetGroup(block_size, int(32 * k)),\n",
    "      WideResnetGroup(block_size, int(32 * k)),\n",
    "      WideResnetGroup(block_size, int(32 * k)),\n",
    "      WideResnetGroup(block_size, int(64 * k), (2, 2)),\n",
    "      WideResnetGroup(block_size, int(64 * k)),\n",
    "      WideResnetGroup(block_size, int(64 * k)),\n",
    "      WideResnetGroup(block_size, int(64 * k)),\n",
    "      WideResnetGroup(block_size, int(64 * k)),\n",
    "      stax.AvgPool((8, 8)),\n",
    "      stax.Flatten(),\n",
    "      stax.Dense(num_classes, 1., 0.))\n",
    "\n",
    "init_fn, apply_fn, kernel_fn = WideResnet(block_size=4, k=5, num_classes=10)"
   ]
  },
  {
   "cell_type": "code",
   "execution_count": 6,
   "metadata": {},
   "outputs": [],
   "source": [
    "init_fn = jit(init_fn, static_argnums=(1,))\n",
    "apply_fn = jit(apply_fn)"
   ]
  },
  {
   "cell_type": "code",
   "execution_count": 7,
   "metadata": {
    "scrolled": false
   },
   "outputs": [],
   "source": [
    "key = random.PRNGKey(4)\n",
    "_, params = init_fn(key, (-1, 32, 32, 3))"
   ]
  },
  {
   "cell_type": "code",
   "execution_count": 8,
   "metadata": {},
   "outputs": [],
   "source": [
    "x_nhwc = np.transpose(x, [0, 2, 3, 1])"
   ]
  },
  {
   "cell_type": "code",
   "execution_count": 9,
   "metadata": {},
   "outputs": [],
   "source": [
    "y = apply_fn(params, x_nhwc)"
   ]
  },
  {
   "cell_type": "code",
   "execution_count": 12,
   "metadata": {},
   "outputs": [],
   "source": [
    "def count_classes(y):\n",
    "    return (y.argmax(1) == np.arange(10)[:, None]).sum(1)    \n",
    "class_df['train5'] = count_classes(y)\n"
   ]
  },
  {
   "cell_type": "code",
   "execution_count": 13,
   "metadata": {},
   "outputs": [
    {
     "data": {
      "text/plain": [
       "<matplotlib.axes._subplots.AxesSubplot at 0x7f3a606d6110>"
      ]
     },
     "execution_count": 13,
     "metadata": {},
     "output_type": "execute_result"
    },
    {
     "data": {
      "image/png": "[encoded data removed]",
      "text/plain": [
       "<Figure size 432x288 with 1 Axes>"
      ]
     },
     "metadata": {
      "needs_background": "light"
     },
     "output_type": "display_data"
    }
   ],
   "source": [
    "class_df.plot(kind='bar')"
   ]
  },
  {
   "cell_type": "code",
   "execution_count": 11,
   "metadata": {},
   "outputs": [],
   "source": [
    "class_df = pd.DataFrame(index=np.arange(10))\n"
   ]
  },
  {
   "cell_type": "code",
   "execution_count": null,
   "metadata": {},
   "outputs": [],
   "source": [
    "n_layers = 10\n",
    "\n",
    "layers = []\n",
    "for _ in range(n_layers):\n",
    "    layers += [stax.Dense(1000, W_std=2.**.5, b_std=.1), stax.Relu()]\n",
    "layers += [stax.Dense(1)]\n",
    "    \n",
    "init_fn, apply_fn, kernel_fn = stax.serial(*layers)\n",
    "init_fn = jit(init_fn, static_argnums=(1,))\n",
    "apply_fn = jit(apply_fn)\n",
    "kernel_fn = jit(kernel_fn, static_argnums=(2,))"
   ]
  },
  {
   "cell_type": "code",
   "execution_count": null,
   "metadata": {},
   "outputs": [],
   "source": [
    "layers_bn = []\n",
    "for _ in range(n_layers):\n",
    "    layers_bn += [stax.Dense(30, W_std=2.**.5, b_std=0.1), stax.BatchNorm(0, center=True, scale=True), stax.Relu()]\n",
    "layers_bn += [stax.Dense(1)]\n",
    "    \n",
    "init_fn_bn, apply_fn_bn, kernel_fn_bn = stax.serial(*layers_bn)\n",
    "init_fn_bn = jit(init_fn_bn, static_argnums=(1,))\n",
    "apply_fn_bn = jit(apply_fn_bn)"
   ]
  },
  {
   "cell_type": "code",
   "execution_count": null,
   "metadata": {},
   "outputs": [],
   "source": [
    "xs = np.concatenate([np.linspace(-3, -0.1, 70), np.linspace(-.1, .1, 500), np.linspace(.1, 3, 70)])[:, None].astype('float32')"
   ]
  },
  {
   "cell_type": "code",
   "execution_count": null,
   "metadata": {},
   "outputs": [],
   "source": [
    "key = random.PRNGKey(5)\n",
    "key, *keys = random.split(key, 10)\n",
    "\n",
    "idx = np.array([len(xs)//2 + 70, len(xs)//2 + 10])\n",
    "print(\"getting for\", xs[idx])\n",
    "scatter_ys = []\n",
    "\n",
    "mom1 = np.zeros_like(xs)\n",
    "mom2 = np.zeros((xs.shape[0], xs.shape[0]))\n",
    "\n",
    "_, ax = plt.subplots(1, 1, figsize=(15, 10))\n",
    "\n",
    "for k in keys:\n",
    "    _, w = init_fn(k, (-1, 1))\n",
    "    ys = apply_fn(w, xs)\n",
    "    mom1 += ys\n",
    "    mom2 += ys*ys.T\n",
    "    scatter_ys.append(ys[idx])\n",
    "    ax.plot(xs, ys, color='C0')\n",
    "    \n",
    "    #for i in range(n_layers):\n",
    "    #    w.insert(i*3+1, (np.zeros((1)), np.zeros((1))))\n",
    "    #w_bn = w\n",
    "    _, w_bn = init_fn_bn(k, (-1, 1))\n",
    "    ax.plot(xs, apply_fn_bn(w_bn, xs), color='C1')"
   ]
  },
  {
   "cell_type": "code",
   "execution_count": null,
   "metadata": {},
   "outputs": [],
   "source": [
    "len"
   ]
  },
  {
   "cell_type": "code",
   "execution_count": null,
   "metadata": {},
   "outputs": [],
   "source": [
    "scatter_ys = np.stack(scatter_ys)\n",
    "\n",
    "plt.plot(scatter_ys[:, 0, 0], scatter_ys[:, 1, 0], '+')"
   ]
  },
  {
   "cell_type": "code",
   "execution_count": null,
   "metadata": {},
   "outputs": [],
   "source": [
    "cov = mom2/200 - (mom1/200)*(mom1.T/200)"
   ]
  },
  {
   "cell_type": "code",
   "execution_count": null,
   "metadata": {},
   "outputs": [],
   "source": [
    "#cov = kernel_fn(xs, xs, 'nngp')\n",
    "\n",
    "kernel_fn = nt.empirical_kernel_fn(apply_fn)\n",
    "var = np.diag(cov)\n",
    "corr = cov * (var[:, None] * var)**-.5\n",
    "\n",
    "plt.imshow(corr)\n",
    "plt.colorbar()"
   ]
  },
  {
   "cell_type": "code",
   "execution_count": null,
   "metadata": {},
   "outputs": [],
   "source": []
  },
  {
   "cell_type": "code",
   "execution_count": null,
   "metadata": {},
   "outputs": [],
   "source": [
    "var = np.diag(cov)\n",
    "corr = cov * (var[:, None] * var)**-.5\n",
    "\n",
    "plt.imshow(corr)\n",
    "plt.colorbar()"
   ]
  },
  {
   "cell_type": "code",
   "execution_count": null,
   "metadata": {},
   "outputs": [],
   "source": [
    "ys"
   ]
  },
  {
   "cell_type": "code",
   "execution_count": null,
   "metadata": {},
   "outputs": [],
   "source": []
  }
 ],
 "metadata": {
  "kernelspec": {
   "display_name": "Python 3",
   "language": "python",
   "name": "python3"
  },
  "language_info": {
   "codemirror_mode": {
    "name": "ipython",
    "version": 3
   },
   "file_extension": ".py",
   "mimetype": "text/x-python",
   "name": "python",
   "nbconvert_exporter": "python",
   "pygments_lexer": "ipython3",
   "version": "3.7.6"
  }
 },
 "nbformat": 4,
 "nbformat_minor": 4
}
